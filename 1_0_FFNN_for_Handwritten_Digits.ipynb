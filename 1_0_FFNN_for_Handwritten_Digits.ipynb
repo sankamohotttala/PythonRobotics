{
  "nbformat": 4,
  "nbformat_minor": 0,
  "metadata": {
    "colab": {
      "name": "1.0 FFNN for Handwritten Digits",
      "provenance": [],
      "include_colab_link": true
    },
    "kernelspec": {
      "name": "python3",
      "display_name": "Python 3"
    },
    "accelerator": "GPU"
  },
  "cells": [
    {
      "cell_type": "markdown",
      "metadata": {
        "id": "view-in-github",
        "colab_type": "text"
      },
      "source": [
        "<a href=\"https://colab.research.google.com/github/sankamohotttala/PythonRobotics/blob/master/1_0_FFNN_for_Handwritten_Digits.ipynb\" target=\"_parent\"><img src=\"https://colab.research.google.com/assets/colab-badge.svg\" alt=\"Open In Colab\"/></a>"
      ]
    },
    {
      "cell_type": "code",
      "metadata": {
        "id": "GCSIWXx_tw1x",
        "colab_type": "code",
        "colab": {
          "base_uri": "https://localhost:8080/",
          "height": 114
        },
        "outputId": "27a4ac97-88a6-4c37-b68f-a14f35b8dc3a"
      },
      "source": [
        "from keras.datasets import mnist\n",
        "#importing the mnist dataset available in keras\n",
        "\n",
        "(train_data,train_target), (test_data,test_target)=mnist.load_data()  "
      ],
      "execution_count": 1,
      "outputs": [
        {
          "output_type": "stream",
          "text": [
            "Using TensorFlow backend.\n"
          ],
          "name": "stderr"
        },
        {
          "output_type": "display_data",
          "data": {
            "text/html": [
              "<p style=\"color: red;\">\n",
              "The default version of TensorFlow in Colab will soon switch to TensorFlow 2.x.<br>\n",
              "We recommend you <a href=\"https://www.tensorflow.org/guide/migrate\" target=\"_blank\">upgrade</a> now \n",
              "or ensure your notebook will continue to use TensorFlow 1.x via the <code>%tensorflow_version 1.x</code> magic:\n",
              "<a href=\"https://colab.research.google.com/notebooks/tensorflow_version.ipynb\" target=\"_blank\">more info</a>.</p>\n"
            ],
            "text/plain": [
              "<IPython.core.display.HTML object>"
            ]
          },
          "metadata": {
            "tags": []
          }
        },
        {
          "output_type": "stream",
          "text": [
            "Downloading data from https://s3.amazonaws.com/img-datasets/mnist.npz\n",
            "11493376/11490434 [==============================] - 1s 0us/step\n"
          ],
          "name": "stdout"
        }
      ]
    },
    {
      "cell_type": "code",
      "metadata": {
        "id": "Rzd9XggAz00o",
        "colab_type": "code",
        "colab": {
          "base_uri": "https://localhost:8080/",
          "height": 85
        },
        "outputId": "19f99ddd-bac6-406c-b815-7d040424fc1f"
      },
      "source": [
        "print(train_data.shape)\n",
        "print(train_target.shape)\n",
        "print(test_data.shape)\n",
        "print(test_target.shape)"
      ],
      "execution_count": 2,
      "outputs": [
        {
          "output_type": "stream",
          "text": [
            "(60000, 28, 28)\n",
            "(60000,)\n",
            "(10000, 28, 28)\n",
            "(10000,)\n"
          ],
          "name": "stdout"
        }
      ]
    },
    {
      "cell_type": "code",
      "metadata": {
        "id": "dGuNWmfE1PqU",
        "colab_type": "code",
        "colab": {
          "base_uri": "https://localhost:8080/",
          "height": 282
        },
        "outputId": "72335396-3347-4873-e652-34fd695b0664"
      },
      "source": [
        "from matplotlib import pyplot as plt\n",
        "plt.imshow(train_data[0],cmap='gray')\n",
        "print(train_target[0])"
      ],
      "execution_count": 3,
      "outputs": [
        {
          "output_type": "stream",
          "text": [
            "5\n"
          ],
          "name": "stdout"
        },
        {
          "output_type": "display_data",
          "data": {
            "image/png": "[encoded data removed]",
            "text/plain": [
              "<Figure size 432x288 with 1 Axes>"
            ]
          },
          "metadata": {
            "tags": []
          }
        }
      ]
    },
    {
      "cell_type": "code",
      "metadata": {
        "id": "KesxI9Ff29Ot",
        "colab_type": "code",
        "colab": {
          "base_uri": "https://localhost:8080/",
          "height": 207
        },
        "outputId": "41aa5e71-cf89-4e15-b3cb-5d3afb1a95bd"
      },
      "source": [
        "from keras.models import Sequential\n",
        "from keras.layers import Dense,Flatten\n",
        "\n",
        "model=Sequential()\n",
        "#an empty NN\n",
        "\n",
        "model.add(Flatten(input_shape=(28,28)))\n",
        "model.add(Dense(512,activation='relu'))  #1st H/L\n",
        "model.add(Dense(100,activation='relu'))#2nd H/L\n",
        "model.add(Dense(10,activation='softmax'))\n",
        "\n",
        "model.compile(optimizer='adam', loss='categorical_crossentropy',metrics=['accuracy']) \n",
        "#loss function depends on regression/categorize blah blah"
      ],
      "execution_count": 4,
      "outputs": [
        {
          "output_type": "stream",
          "text": [
            "WARNING:tensorflow:From /usr/local/lib/python3.6/dist-packages/keras/backend/tensorflow_backend.py:66: The name tf.get_default_graph is deprecated. Please use tf.compat.v1.get_default_graph instead.\n",
            "\n",
            "WARNING:tensorflow:From /usr/local/lib/python3.6/dist-packages/keras/backend/tensorflow_backend.py:541: The name tf.placeholder is deprecated. Please use tf.compat.v1.placeholder instead.\n",
            "\n",
            "WARNING:tensorflow:From /usr/local/lib/python3.6/dist-packages/keras/backend/tensorflow_backend.py:4432: The name tf.random_uniform is deprecated. Please use tf.random.uniform instead.\n",
            "\n",
            "WARNING:tensorflow:From /usr/local/lib/python3.6/dist-packages/keras/optimizers.py:793: The name tf.train.Optimizer is deprecated. Please use tf.compat.v1.train.Optimizer instead.\n",
            "\n",
            "WARNING:tensorflow:From /usr/local/lib/python3.6/dist-packages/keras/backend/tensorflow_backend.py:3576: The name tf.log is deprecated. Please use tf.math.log instead.\n",
            "\n"
          ],
          "name": "stdout"
        }
      ]
    },
    {
      "cell_type": "code",
      "metadata": {
        "id": "kBfAeMul_SwN",
        "colab_type": "code",
        "colab": {}
      },
      "source": [
        "train_data=train_data/255.0\n",
        "test_data=test_data/255.0 #scale down the data ,pixel values get between 0 and 1"
      ],
      "execution_count": 0,
      "outputs": []
    },
    {
      "cell_type": "code",
      "metadata": {
        "id": "9A3W9h5Y_6ga",
        "colab_type": "code",
        "colab": {
          "base_uri": "https://localhost:8080/",
          "height": 119
        },
        "outputId": "01f7e54e-b9c6-4bbb-c016-f5515689b052"
      },
      "source": [
        "print(train_target[:5])\n",
        "from keras.utils import to_categorical\n",
        "train_target=to_categorical(train_target)\n",
        "print(train_target[:5])"
      ],
      "execution_count": 6,
      "outputs": [
        {
          "output_type": "stream",
          "text": [
            "[5 0 4 1 9]\n",
            "[[0. 0. 0. 0. 0. 1. 0. 0. 0. 0.]\n",
            " [1. 0. 0. 0. 0. 0. 0. 0. 0. 0.]\n",
            " [0. 0. 0. 0. 1. 0. 0. 0. 0. 0.]\n",
            " [0. 1. 0. 0. 0. 0. 0. 0. 0. 0.]\n",
            " [0. 0. 0. 0. 0. 0. 0. 0. 0. 1.]]\n"
          ],
          "name": "stdout"
        }
      ]
    },
    {
      "cell_type": "code",
      "metadata": {
        "id": "AFzaZOqeBocR",
        "colab_type": "code",
        "colab": {
          "base_uri": "https://localhost:8080/",
          "height": 887
        },
        "outputId": "79999ce0-342c-4bf6-e6c3-894083cc38ab"
      },
      "source": [
        "model.fit(train_data,train_target,epochs=15) #train the NN 5 times"
      ],
      "execution_count": 7,
      "outputs": [
        {
          "output_type": "stream",
          "text": [
            "WARNING:tensorflow:From /usr/local/lib/python3.6/dist-packages/tensorflow_core/python/ops/math_grad.py:1424: where (from tensorflow.python.ops.array_ops) is deprecated and will be removed in a future version.\n",
            "Instructions for updating:\n",
            "Use tf.where in 2.0, which has the same broadcast rule as np.where\n",
            "WARNING:tensorflow:From /usr/local/lib/python3.6/dist-packages/keras/backend/tensorflow_backend.py:1033: The name tf.assign_add is deprecated. Please use tf.compat.v1.assign_add instead.\n",
            "\n",
            "WARNING:tensorflow:From /usr/local/lib/python3.6/dist-packages/keras/backend/tensorflow_backend.py:1020: The name tf.assign is deprecated. Please use tf.compat.v1.assign instead.\n",
            "\n",
            "WARNING:tensorflow:From /usr/local/lib/python3.6/dist-packages/keras/backend/tensorflow_backend.py:3005: The name tf.Session is deprecated. Please use tf.compat.v1.Session instead.\n",
            "\n",
            "Epoch 1/15\n",
            "WARNING:tensorflow:From /usr/local/lib/python3.6/dist-packages/keras/backend/tensorflow_backend.py:190: The name tf.get_default_session is deprecated. Please use tf.compat.v1.get_default_session instead.\n",
            "\n",
            "WARNING:tensorflow:From /usr/local/lib/python3.6/dist-packages/keras/backend/tensorflow_backend.py:197: The name tf.ConfigProto is deprecated. Please use tf.compat.v1.ConfigProto instead.\n",
            "\n",
            "WARNING:tensorflow:From /usr/local/lib/python3.6/dist-packages/keras/backend/tensorflow_backend.py:207: The name tf.global_variables is deprecated. Please use tf.compat.v1.global_variables instead.\n",
            "\n",
            "WARNING:tensorflow:From /usr/local/lib/python3.6/dist-packages/keras/backend/tensorflow_backend.py:216: The name tf.is_variable_initialized is deprecated. Please use tf.compat.v1.is_variable_initialized instead.\n",
            "\n",
            "WARNING:tensorflow:From /usr/local/lib/python3.6/dist-packages/keras/backend/tensorflow_backend.py:223: The name tf.variables_initializer is deprecated. Please use tf.compat.v1.variables_initializer instead.\n",
            "\n",
            "60000/60000 [==============================] - 15s 257us/step - loss: 0.1909 - acc: 0.9434\n",
            "Epoch 2/15\n",
            "60000/60000 [==============================] - 10s 172us/step - loss: 0.0797 - acc: 0.9753\n",
            "Epoch 3/15\n",
            "60000/60000 [==============================] - 10s 170us/step - loss: 0.0552 - acc: 0.9825\n",
            "Epoch 4/15\n",
            "60000/60000 [==============================] - 10s 171us/step - loss: 0.0380 - acc: 0.9877\n",
            "Epoch 5/15\n",
            "60000/60000 [==============================] - 10s 170us/step - loss: 0.0310 - acc: 0.9901\n",
            "Epoch 6/15\n",
            "60000/60000 [==============================] - 10s 169us/step - loss: 0.0267 - acc: 0.9913\n",
            "Epoch 7/15\n",
            "60000/60000 [==============================] - 10s 174us/step - loss: 0.0223 - acc: 0.9923\n",
            "Epoch 8/15\n",
            "60000/60000 [==============================] - 10s 170us/step - loss: 0.0204 - acc: 0.9934\n",
            "Epoch 9/15\n",
            "60000/60000 [==============================] - 10s 171us/step - loss: 0.0182 - acc: 0.9940\n",
            "Epoch 10/15\n",
            "60000/60000 [==============================] - 10s 170us/step - loss: 0.0170 - acc: 0.9947\n",
            "Epoch 11/15\n",
            "60000/60000 [==============================] - 10s 169us/step - loss: 0.0154 - acc: 0.9951\n",
            "Epoch 12/15\n",
            "60000/60000 [==============================] - 10s 171us/step - loss: 0.0151 - acc: 0.9952\n",
            "Epoch 13/15\n",
            "60000/60000 [==============================] - 10s 171us/step - loss: 0.0122 - acc: 0.9962\n",
            "Epoch 14/15\n",
            "60000/60000 [==============================] - 10s 170us/step - loss: 0.0137 - acc: 0.9961\n",
            "Epoch 15/15\n",
            "60000/60000 [==============================] - 10s 169us/step - loss: 0.0116 - acc: 0.9959\n"
          ],
          "name": "stdout"
        },
        {
          "output_type": "execute_result",
          "data": {
            "text/plain": [
              "<keras.callbacks.History at 0x7fbf290e64e0>"
            ]
          },
          "metadata": {
            "tags": []
          },
          "execution_count": 7
        }
      ]
    },
    {
      "cell_type": "code",
      "metadata": {
        "id": "yJNTyKBoEIEq",
        "colab_type": "code",
        "colab": {
          "base_uri": "https://localhost:8080/",
          "height": 282
        },
        "outputId": "41368394-b4b3-4fa0-b9db-5ff76a6e9993"
      },
      "source": [
        "plt.imshow(test_data[0])"
      ],
      "execution_count": 8,
      "outputs": [
        {
          "output_type": "execute_result",
          "data": {
            "text/plain": [
              "<matplotlib.image.AxesImage at 0x7fbf290e6a20>"
            ]
          },
          "metadata": {
            "tags": []
          },
          "execution_count": 8
        },
        {
          "output_type": "display_data",
          "data": {
            "image/png": "[encoded data removed]",
            "text/plain": [
              "<Figure size 432x288 with 1 Axes>"
            ]
          },
          "metadata": {
            "tags": []
          }
        }
      ]
    },
    {
      "cell_type": "code",
      "metadata": {
        "id": "U_Kgol93ESiX",
        "colab_type": "code",
        "colab": {
          "base_uri": "https://localhost:8080/",
          "height": 51
        },
        "outputId": "6bcccf5a-ec6e-4ae3-eda4-45fc236f49e8"
      },
      "source": [
        "result=model.predict([[test_data[0]]])\n",
        "print(result)"
      ],
      "execution_count": 10,
      "outputs": [
        {
          "output_type": "stream",
          "text": [
            "[[5.7461556e-23 9.8584058e-11 1.5398196e-19 1.1443782e-14 1.0464498e-21\n",
            "  1.0915755e-18 5.8759477e-28 1.0000000e+00 3.9792671e-19 5.6693646e-11]]\n"
          ],
          "name": "stdout"
        }
      ]
    }
  ]
}